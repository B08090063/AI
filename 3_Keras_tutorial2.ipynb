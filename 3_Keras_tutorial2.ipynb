{
  "nbformat": 4,
  "nbformat_minor": 0,
  "metadata": {
    "colab": {
      "provenance": []
    },
    "kernelspec": {
      "name": "python3",
      "display_name": "Python 3"
    },
    "language_info": {
      "name": "python"
    }
  },
  "cells": [
    {
      "cell_type": "code",
      "execution_count": 3,
      "metadata": {
        "colab": {
          "base_uri": "https://localhost:8080/"
        },
        "id": "xTmI7oOLpO-b",
        "outputId": "aed3c310-22e6-4934-fe58-7604072f4b87"
      },
      "outputs": [
        {
          "output_type": "stream",
          "name": "stdout",
          "text": [
            "Epoch 1/10\n",
            "32/32 [==============================] - 1s 6ms/step - loss: 450.3492 - accuracy: 0.1040\n",
            "Epoch 2/10\n",
            "32/32 [==============================] - 0s 6ms/step - loss: 1480.8866 - accuracy: 0.1100\n",
            "Epoch 3/10\n",
            "32/32 [==============================] - 0s 6ms/step - loss: 2676.7390 - accuracy: 0.1110\n",
            "Epoch 4/10\n",
            "32/32 [==============================] - 0s 6ms/step - loss: 3806.8884 - accuracy: 0.1010\n",
            "Epoch 5/10\n",
            "32/32 [==============================] - 0s 6ms/step - loss: 4883.0571 - accuracy: 0.1060\n",
            "Epoch 6/10\n",
            "32/32 [==============================] - 0s 6ms/step - loss: 6012.4971 - accuracy: 0.1110\n",
            "Epoch 7/10\n",
            "32/32 [==============================] - 0s 6ms/step - loss: 7124.7954 - accuracy: 0.1170\n",
            "Epoch 8/10\n",
            "32/32 [==============================] - 0s 7ms/step - loss: 8318.6475 - accuracy: 0.0960\n",
            "Epoch 9/10\n",
            "32/32 [==============================] - 0s 6ms/step - loss: 9237.0068 - accuracy: 0.1050\n",
            "Epoch 10/10\n",
            "32/32 [==============================] - 0s 6ms/step - loss: 10378.5811 - accuracy: 0.1020\n",
            "32/32 [==============================] - 0s 2ms/step - loss: 8694.4395 - accuracy: 0.1100\n",
            "0.10999999940395355\n"
          ]
        }
      ],
      "source": [
        "from tensorflow import keras\n",
        "from keras.models import Sequential\n",
        "from keras.layers import Dense, Dropout\n",
        " \n",
        "model = Sequential()\n",
        "model.add(Dense(512, activation='relu', input_dim=784))\n",
        "model.add(Dropout(0.2))\n",
        "model.add(Dense(10, activation='softmax'))\n",
        "model.compile(optimizer='adam', loss='categorical_crossentropy', metrics=['accuracy'])\n",
        " \n",
        "import numpy as np\n",
        "data = np.random.random((1000, 784)) \n",
        "labels = np.random.randint(10, size=(1000, 10))\n",
        " \n",
        "model.fit(data, labels, epochs=10, batch_size=32)\n",
        "\n",
        "score=model.evaluate(data, labels)\n",
        "print(score[1])"
      ]
    }
  ]
}